{
 "cells": [
  {
   "cell_type": "markdown",
   "metadata": {},
   "source": [
    "# Tutorial 3: Image analysis workflow\n",
    "\n",
    "Analysis of scientific images can be an iterative process that may require users to go back and forth, trying different processing steps and check how to improve results. Later, when the best functions and appropriate settings are found and efficient data collection has priority, image analysis should be efficient and with minimal user input to increase throughput and reproducibility. In phenopype, users can choose between two different workflows that are useful for different stages in the process of scientific image analysis:\n",
    "\n",
    "| Workflow | Use case | Operation principle | Code explicitness | Data reproducibility |\n",
    "|:---|:---------|:------------|:---|:---|\n",
    "| **Low throughput** | \"prototyping\" - self education and evaluation on single images and small datasets | image analysis functions are written and stored in Python | high | low |\n",
    "| **High throughput**  | \"production\" - default workflow for larger image datasets | images analysis functions are written and stored in YAML format | low | high |\n",
    "\n",
    "In the **low throughput** workflow, users write a function stack in directly in Python code. This is recommended for users who wish to familiarize themselves with the basic principles of computer vision or when working with only a handful of images. In contrast, the **high throughput** workflow is for production stage, when image analysis should be efficient and data collection reproducible for other users and scientists. In this tutorial you will learn about the differences between the two workflows."
   ]
  },
  {
   "cell_type": "markdown",
   "metadata": {},
   "source": [
    "<div class=\"alert alert-block alert-success\">\n",
    "\n",
    "**Further resources related to the high throughput workflow**\n",
    "\n",
    "*   [Window control covered in Tutorial 2](tutorial_2_phenopype_images.ipynb#Window-control)\n",
    "*   [pype section in the API](https://mluerig.github.io/phenopype/api.html#pype-high-throughput-function)\n",
    "*   [YAML indentation and separation](https://www.tutorialspoint.com/yaml/yaml_indentation_and_separation.htm).\n",
    "*   [the structure of digital images](https://mluerig.github.io/phenopype/resources.html#computer-vision)\n",
    "    \n",
    "</div>"
   ]
  },
  {
   "cell_type": "markdown",
   "metadata": {},
   "source": [
    "## Instructions for testing each workflow\n",
    "    \n",
    "Here the goal is to measure lateral armor plating in threespine stickleback (*Gasterosteus aculeatus*). First we need to draw a mask around posterior region that contains the plates. For that step you should select the boundaries around the area of interest, perform a thresholding operation inside the mask, and retrieve the contours inside. The procedure to extract bone-plate area is the same in all workflows, but workflows differ in the amount of explicit Python code, and in reproducibility. "
   ]
  },
  {
   "cell_type": "markdown",
   "metadata": {},
   "source": [
    "<center>\n",
    "<div style=\"width:600px; text-align: left\" >\n",
    "    \n",
    "![Phenopype workflow example](_assets/images/workflow_example_case.png)\n",
    "    \n",
    "**Fig. 1:** Workflow demonstration using a stained stickleback (*Gasterosteus aculeatus*) stained with alizarin red. Traits of interest are bone-plate area and shape, and, within the detected plates, pixel intensities that denote bone-density. First, draw a map, the remaining steps are fully automatic.\n",
    "    \n",
    "</div>\n",
    "</center>"
   ]
  },
  {
   "cell_type": "markdown",
   "metadata": {},
   "source": [
    "## Low throughput workflow"
   ]
  },
  {
   "cell_type": "markdown",
   "metadata": {},
   "source": [
    "In the low throughput workflow, the output of every function needs to be explicitly passed on to the next step. First we need to use  `load_image`, which imports the file as a three-channel numpy array (*ndarray*), together with image meta data (file name,  dimensions, etc.) as a pandas *DataFrame*. After drawing masking the image to only include the area of interest (i.e. the bone plates), we passt the array and the mask on to the `threshold` function. Thresholding will convert a three dimensional array into a one dimensional binary array of the same width and hight (white denoting foreground, black denoting background). This array needs to be passed on to the `find_contours` function, which will return a dictionary with the detected contours (i.e. the white areas). Finally, the dataframe can be exported as a csv file with `save_contours`. By passing on the initially created meta-data, this function will also included filename and image dimensions in the exported csv.  \n"
   ]
  },
  {
   "cell_type": "markdown",
   "metadata": {},
   "source": [
    "![Phenopype prototyping workflow](_assets/images/workflow_low.png)\n",
    "<strong>Fig. 2:</strong> Sequence of image analysis in phenopype's low throughput workflow. Boxes indicate data/information, grey bubbles indicate image phenopype functions. "
   ]
  },
  {
   "cell_type": "code",
   "execution_count": 1,
   "metadata": {},
   "outputs": [],
   "source": [
    "import phenopype as pp\n",
    "\n",
    "filepath = r\"images/stickle1.jpg\"\n",
    "\n",
    "## load image as array, supply image_data (DataFrame containing meta data)\n",
    "image, image_data = pp.load_image(filepath, df = True)"
   ]
  },
  {
   "cell_type": "markdown",
   "metadata": {},
   "source": [
    "Next, run `create_mask` - use left mouse clicks to trace an outline around some of the fish plates, right mouse to remove erroneous points, and finish masking the region with `Enter`. Note that the connection between the last two points is drawn automatically, no need to click on the starting point. Then run all remaining code cells on by one, we will visualize the result at the end. "
   ]
  },
  {
   "cell_type": "markdown",
   "metadata": {},
   "source": [
    "<center>\n",
    "<div style=\"width:500px; text-align: left\" >\n",
    "    \n",
    "![Create masks](_assets/images/masks2.gif)\n",
    "    \n",
    "</div>\n",
    "</center>"
   ]
  },
  {
   "cell_type": "code",
   "execution_count": 2,
   "metadata": {},
   "outputs": [
    {
     "name": "stdout",
     "output_type": "stream",
     "text": [
      "- creating mask\n"
     ]
    }
   ],
   "source": [
    "## draw mask\n",
    "mask = pp.preprocessing.create_mask(image, tool=\"polygon\") "
   ]
  },
  {
   "cell_type": "code",
   "execution_count": 3,
   "metadata": {},
   "outputs": [
    {
     "name": "stdout",
     "output_type": "stream",
     "text": [
      "- including pixels from 1 drawn masks \n"
     ]
    }
   ],
   "source": [
    "## thresholding converts multichannel to binary image\n",
    "image_bin = pp.segmentation.threshold(image, method=\"adaptive\", \n",
    "                                      channel=\"red\", blocksize=199, \n",
    "                                      constant=5, df_masks=mask) "
   ]
  },
  {
   "cell_type": "code",
   "execution_count": 4,
   "metadata": {},
   "outputs": [
    {
     "name": "stdout",
     "output_type": "stream",
     "text": [
      "- found 6 contours that match criteria\n"
     ]
    }
   ],
   "source": [
    "## detect contours ony binary image\n",
    "contours = pp.segmentation.find_contours(image_bin, df_image_data=image_data, \n",
    "                                         retrieval=\"ext\", min_area=150) "
   ]
  },
  {
   "cell_type": "code",
   "execution_count": 5,
   "metadata": {},
   "outputs": [
    {
     "name": "stdout",
     "output_type": "stream",
     "text": [
      "Save folder _temp/output does not exist - create?.y\n",
      "- contours saved under _temp/output\\contours.csv.\n"
     ]
    }
   ],
   "source": [
    "## export contours to csv\n",
    "pp.export.save_contours(contours, dirpath = r\"_temp/output\")"
   ]
  },
  {
   "cell_type": "code",
   "execution_count": 6,
   "metadata": {},
   "outputs": [
    {
     "data": {
      "text/html": [
       "<div>\n",
       "<style scoped>\n",
       "    .dataframe tbody tr th:only-of-type {\n",
       "        vertical-align: middle;\n",
       "    }\n",
       "\n",
       "    .dataframe tbody tr th {\n",
       "        vertical-align: top;\n",
       "    }\n",
       "\n",
       "    .dataframe thead th {\n",
       "        text-align: right;\n",
       "    }\n",
       "</style>\n",
       "<table border=\"1\" class=\"dataframe\">\n",
       "  <thead>\n",
       "    <tr style=\"text-align: right;\">\n",
       "      <th></th>\n",
       "      <th>filename</th>\n",
       "      <th>width</th>\n",
       "      <th>height</th>\n",
       "      <th>contour</th>\n",
       "      <th>center</th>\n",
       "      <th>diameter</th>\n",
       "      <th>area</th>\n",
       "      <th>order</th>\n",
       "      <th>idx_child</th>\n",
       "      <th>idx_parent</th>\n",
       "      <th>coords</th>\n",
       "    </tr>\n",
       "  </thead>\n",
       "  <tbody>\n",
       "    <tr>\n",
       "      <th>0</th>\n",
       "      <td>stickle1.jpg</td>\n",
       "      <td>2400</td>\n",
       "      <td>1600</td>\n",
       "      <td>1</td>\n",
       "      <td>(1759, 398)</td>\n",
       "      <td>50</td>\n",
       "      <td>741</td>\n",
       "      <td>parent</td>\n",
       "      <td>-1</td>\n",
       "      <td>-1</td>\n",
       "      <td>[[[1747, 381]], [[1747, 382]], [[1746, 383]], ...</td>\n",
       "    </tr>\n",
       "    <tr>\n",
       "      <th>1</th>\n",
       "      <td>stickle1.jpg</td>\n",
       "      <td>2400</td>\n",
       "      <td>1600</td>\n",
       "      <td>2</td>\n",
       "      <td>(1678, 386)</td>\n",
       "      <td>107</td>\n",
       "      <td>2550</td>\n",
       "      <td>parent</td>\n",
       "      <td>-1</td>\n",
       "      <td>-1</td>\n",
       "      <td>[[[1636, 354]], [[1635, 355]], [[1635, 356]], ...</td>\n",
       "    </tr>\n",
       "    <tr>\n",
       "      <th>2</th>\n",
       "      <td>stickle1.jpg</td>\n",
       "      <td>2400</td>\n",
       "      <td>1600</td>\n",
       "      <td>3</td>\n",
       "      <td>(1611, 370)</td>\n",
       "      <td>61</td>\n",
       "      <td>863</td>\n",
       "      <td>parent</td>\n",
       "      <td>-1</td>\n",
       "      <td>-1</td>\n",
       "      <td>[[[1611, 340]], [[1611, 341]], [[1610, 342]], ...</td>\n",
       "    </tr>\n",
       "    <tr>\n",
       "      <th>3</th>\n",
       "      <td>stickle1.jpg</td>\n",
       "      <td>2400</td>\n",
       "      <td>1600</td>\n",
       "      <td>4</td>\n",
       "      <td>(1580, 373)</td>\n",
       "      <td>88</td>\n",
       "      <td>1268</td>\n",
       "      <td>parent</td>\n",
       "      <td>-1</td>\n",
       "      <td>-1</td>\n",
       "      <td>[[[1579, 329]], [[1579, 332]], [[1578, 333]], ...</td>\n",
       "    </tr>\n",
       "    <tr>\n",
       "      <th>4</th>\n",
       "      <td>stickle1.jpg</td>\n",
       "      <td>2400</td>\n",
       "      <td>1600</td>\n",
       "      <td>5</td>\n",
       "      <td>(1534, 364)</td>\n",
       "      <td>119</td>\n",
       "      <td>3660</td>\n",
       "      <td>parent</td>\n",
       "      <td>-1</td>\n",
       "      <td>-1</td>\n",
       "      <td>[[[1516, 307]], [[1516, 309]], [[1517, 310]], ...</td>\n",
       "    </tr>\n",
       "    <tr>\n",
       "      <th>5</th>\n",
       "      <td>stickle1.jpg</td>\n",
       "      <td>2400</td>\n",
       "      <td>1600</td>\n",
       "      <td>6</td>\n",
       "      <td>(1437, 352)</td>\n",
       "      <td>166</td>\n",
       "      <td>9214</td>\n",
       "      <td>parent</td>\n",
       "      <td>-1</td>\n",
       "      <td>-1</td>\n",
       "      <td>[[[1390, 285]], [[1390, 286]], [[1391, 287]], ...</td>\n",
       "    </tr>\n",
       "  </tbody>\n",
       "</table>\n",
       "</div>"
      ],
      "text/plain": [
       "       filename  width  height contour       center diameter  area   order  \\\n",
       "0  stickle1.jpg   2400    1600       1  (1759, 398)       50   741  parent   \n",
       "1  stickle1.jpg   2400    1600       2  (1678, 386)      107  2550  parent   \n",
       "2  stickle1.jpg   2400    1600       3  (1611, 370)       61   863  parent   \n",
       "3  stickle1.jpg   2400    1600       4  (1580, 373)       88  1268  parent   \n",
       "4  stickle1.jpg   2400    1600       5  (1534, 364)      119  3660  parent   \n",
       "5  stickle1.jpg   2400    1600       6  (1437, 352)      166  9214  parent   \n",
       "\n",
       "  idx_child idx_parent                                             coords  \n",
       "0        -1         -1  [[[1747, 381]], [[1747, 382]], [[1746, 383]], ...  \n",
       "1        -1         -1  [[[1636, 354]], [[1635, 355]], [[1635, 356]], ...  \n",
       "2        -1         -1  [[[1611, 340]], [[1611, 341]], [[1610, 342]], ...  \n",
       "3        -1         -1  [[[1579, 329]], [[1579, 332]], [[1578, 333]], ...  \n",
       "4        -1         -1  [[[1516, 307]], [[1516, 309]], [[1517, 310]], ...  \n",
       "5        -1         -1  [[[1390, 285]], [[1390, 286]], [[1391, 287]], ...  "
      ]
     },
     "execution_count": 6,
     "metadata": {},
     "output_type": "execute_result"
    }
   ],
   "source": [
    "contours"
   ]
  },
  {
   "cell_type": "markdown",
   "metadata": {},
   "source": [
    "Next we can visualize the contours found by `find_contours`. Note that we first have to draw them explicitly on a \"canvas\", i.e. a background for visualization. We could draw them on the original image, but then it would be unusable for further work. It is therefore good pracctice to make a copy using the `copy` library:"
   ]
  },
  {
   "cell_type": "code",
   "execution_count": 7,
   "metadata": {},
   "outputs": [],
   "source": [
    "import copy\n",
    "\n",
    "## copy the image \n",
    "canvas = copy.deepcopy(image)\n",
    "\n",
    "## draw detected contours onto canvas\n",
    "image_drawn = pp.visualization.draw_contours(canvas, df_contours=contours)  \n",
    "\n",
    "## show convas\n",
    "pp.show_image(image_drawn)"
   ]
  },
  {
   "cell_type": "markdown",
   "metadata": {},
   "source": [
    "While analyzing the image, you can explore output from the different steps to see what is going on. For example, the binary image resulting from the thresholding: "
   ]
  },
  {
   "cell_type": "code",
   "execution_count": 8,
   "metadata": {},
   "outputs": [],
   "source": [
    "pp.show_image(image_bin)"
   ]
  },
  {
   "cell_type": "markdown",
   "metadata": {},
   "source": [
    "## High throughput worflow"
   ]
  },
  {
   "cell_type": "markdown",
   "metadata": {},
   "source": [
    "This is the default workflow to analyse medium and large image datasets in phenopype. Here, instead of writing down our analysis as a sequence of Python code, as we did in the low throughput workflow, we supply the same functions through a configuration file in human readable `YAML` format. This file can then be loaded by phenopype's `pype` class, which initiates the analysis by triggering three actions: \n",
    "\n",
    "1. open the YAML configuration file in the default OS text editor\n",
    "2. parse the contained functions and execute them in the sequence\n",
    "3. open a HighGUI window showing the processed image, updates with every step\n",
    "\n",
    "After one iteration of all steps, users can evaluate the results and decide to modify the opened configuration file (e.g. either change function parameters or add new functions), and run `pype` again, or to terminate the `pype`-run and save all results. The processed image, any extracted phenotypic information, as well as the modified config-file is stored inside a phenopype `container`, and inside a directory specified with `dirpath`."
   ]
  },
  {
   "cell_type": "markdown",
   "metadata": {},
   "source": [
    "\n",
    "\n",
    "<center>\n",
    "<div style=\"width:600px; text-align: left\" >\n",
    "    \n",
    "![Phenopype high throughput workflow](_assets/images/workflow_high.png)\n",
    "    \n",
    "</div>\n",
    "</center>"
   ]
  },
  {
   "cell_type": "markdown",
   "metadata": {},
   "source": [
    "<div class=\"alert alert-block alert-danger\">\n",
    "\n",
    "**IMPORTANT - read before continuing:**\n",
    "    \n",
    "1. Window control is as covered in [Tutorial 2](tutorial_2_phenopype_images.ipynb#Window-control)). Don't use the close button, make sure that the window is selected / highlighted when you use the key combinations to close or interact with it:  \n",
    "    \n",
    "- `Enter` - finish an interactive step / function in `pype`-mode (e.g. creating a mask)\n",
    "- `Ctrl+Enter` - close and finish a window in `pype`-mode \n",
    "- `Esc` - close a window and quit the Phenoype process that invoked it (e.g. a `for` loop - [see Tutorial 4](tutorial_4_managing_projects.ipynb#Using-pype-with-project-folders)). This may also work when the process is frozen. \n",
    "    \n",
    "2. At the current stage of development, phenopype cannot handle errors resulting from incorrect yaml syntax (e.g. missing spaces or wrong indentation). Consult the section [YAML-syntax (below)](#YAML-syntax) to learn how to correctly modify the configuration files.\n",
    "\n",
    "2. The `pype` attempts to facilate rapid processing by calling some functions automatically (e.g. to visualize and export the results). Consult the [pype section in the API](https://mluerig.github.io/phenopype/api.html#pype-high-throughput-function) to learn about the most important aspects of the `pype` function.\n",
    "    \n",
    "</div>  "
   ]
  },
  {
   "cell_type": "code",
   "execution_count": 15,
   "metadata": {},
   "outputs": [
    {
     "name": "stdout",
     "output_type": "stream",
     "text": [
      "Directory to save phenopype-container output set to parent folder of image:\n",
      "E:\\git_repos\\phenopype\\tutorials\\images\n",
      "New pype configuration created (tut3.yaml) from phenopype template:\n",
      "e:\\git_repos\\phenopype\\phenopype\\templates\\tut3.yaml\n",
      "\n",
      "\n",
      "------------+++ new pype iteration 2021:03:12 16:44:31 +++--------------\n",
      "\n",
      "\n",
      "Nothing loaded.\n",
      "PREPROCESSING\n",
      "create_mask\n",
      "- creating mask\n",
      "SEGMENTATION\n",
      "threshold\n",
      "- including pixels from 1 drawn masks \n",
      "find_contours\n",
      "- found 6 contours that match criteria\n",
      "VISUALIZATION\n",
      "select_canvas\n",
      "- invalid selection - defaulting to raw image\n",
      "draw_contours\n",
      "draw_masks\n",
      "drawing mask: mask1\n",
      "EXPORT\n",
      "save_contours\n",
      "- contours saved under _temp/output\\contours_demo.csv.\n",
      "save_canvas\n",
      "- canvas saved under _temp/output\\canvas_demo.jpg.\n",
      "=== AUTOSAVE ===\n",
      "save_masks\n",
      "- masks saved under _temp/output\\masks_demo.csv.\n",
      "\n",
      "\n",
      "------------+++ finished pype iteration +++--------------\n",
      "-------(End with Ctrl+Enter or re-run with Enter)--------\n",
      "\n",
      "\n",
      "\n",
      "\n",
      "------------+++ new pype iteration 2021:03:12 16:44:40 +++--------------\n",
      "\n",
      "\n",
      "Nothing loaded.\n",
      "PREPROCESSING\n",
      "create_mask\n",
      "- mask with label mask1 already created (edit/overwrite=False)\n",
      "SEGMENTATION\n",
      "threshold\n",
      "- including pixels from 1 drawn masks \n",
      "find_contours\n",
      "- found 6 contours that match criteria\n",
      "VISUALIZATION\n",
      "select_canvas\n",
      "- invalid selection - defaulting to raw image\n",
      "draw_contours\n",
      "draw_masks\n",
      "drawing mask: mask1\n",
      "EXPORT\n",
      "save_contours\n",
      "- contours saved under _temp/output\\contours_demo.csv (overwritten).\n",
      "save_canvas\n",
      "- canvas saved under _temp/output\\canvas_demo.jpg (overwritten).\n",
      "=== AUTOSAVE ===\n",
      "save_masks\n",
      "- masks saved under _temp/output\\masks_demo.csv (overwritten).\n",
      "\n",
      "\n",
      "------------+++ finished pype iteration +++--------------\n",
      "-------(End with Ctrl+Enter or re-run with Enter)--------\n",
      "\n",
      "\n",
      "\n",
      "\n",
      "TERMINATE\n"
     ]
    }
   ],
   "source": [
    "import phenopype as pp\n",
    "\n",
    "filepath = r\"images/stickle1.jpg\"\n",
    "\n",
    "pype_demo = pp.pype(image=filepath, # input - can be also an array or a phenopype directory \n",
    "        dirpath = r\"_temp/output\", ## directory where output is stored (folder needs to exist)\n",
    "        name=\"demo\", # name of the  pype routine, appended to all results-files \n",
    "        template=\"tut3\" # template for the analysis - you can create your own!\n",
    "        )"
   ]
  },
  {
   "cell_type": "markdown",
   "metadata": {},
   "source": [
    "Now all results and intermediate data results are saved under `\"_temp/output\"`, but also contained in a container that is part of the `pype`-object which we called `pype_demo`. You can use it to access e.g. the binary images, as we did in the other workflows above, and visualize it manually: "
   ]
  },
  {
   "cell_type": "code",
   "execution_count": 16,
   "metadata": {},
   "outputs": [],
   "source": [
    "pp.show_image(pype_demo.container.image_bin)"
   ]
  },
  {
   "cell_type": "markdown",
   "metadata": {},
   "source": [
    "Of course you can modify the configuration files to change the outcome. For instance, try to change the `blocksize` argument in `threshold` to `49`, or `499`, and see what happens. If you do so while the window is open, phenopype will update the image window and show the updated results."
   ]
  },
  {
   "cell_type": "markdown",
   "metadata": {},
   "source": [
    "### YAML syntax"
   ]
  },
  {
   "cell_type": "markdown",
   "metadata": {},
   "source": [
    "The configuration files needed to run the pype are written in yaml (a recursive acronym for \"YAML Ain't Markup Language\"). In principle, these are just text files that follows a specific set of rules for indentation and separation. Let's look at the configuration template for this tutorial that we used above - we can look at *all* templates using `pype_config_templates`, and inspect a specific template using `show_config_template`: "
   ]
  },
  {
   "cell_type": "code",
   "execution_count": 17,
   "metadata": {},
   "outputs": [
    {
     "data": {
      "text/plain": [
       "{'demo.yaml': 'e:\\\\git_repos\\\\phenopype\\\\phenopype\\\\templates\\\\demo.yaml',\n",
       " 'ex1.yaml': 'e:\\\\git_repos\\\\phenopype\\\\phenopype\\\\templates\\\\ex1.yaml',\n",
       " 'ex2.yaml': 'e:\\\\git_repos\\\\phenopype\\\\phenopype\\\\templates\\\\ex2.yaml',\n",
       " 'ex3.yaml': 'e:\\\\git_repos\\\\phenopype\\\\phenopype\\\\templates\\\\ex3.yaml',\n",
       " 'ex5_1.yaml': 'e:\\\\git_repos\\\\phenopype\\\\phenopype\\\\templates\\\\ex5_1.yaml',\n",
       " 'ex5_2.yaml': 'e:\\\\git_repos\\\\phenopype\\\\phenopype\\\\templates\\\\ex5_2.yaml',\n",
       " 'ex6.yaml': 'e:\\\\git_repos\\\\phenopype\\\\phenopype\\\\templates\\\\ex6.yaml',\n",
       " 'ex7.yaml': 'e:\\\\git_repos\\\\phenopype\\\\phenopype\\\\templates\\\\ex7.yaml',\n",
       " 'ex8_1.yaml': 'e:\\\\git_repos\\\\phenopype\\\\phenopype\\\\templates\\\\ex8_1.yaml',\n",
       " 'ex8_2.yaml': 'e:\\\\git_repos\\\\phenopype\\\\phenopype\\\\templates\\\\ex8_2.yaml',\n",
       " 'landmarks1.yaml': 'e:\\\\git_repos\\\\phenopype\\\\phenopype\\\\templates\\\\landmarks1.yaml',\n",
       " 'landmarks2.yaml': 'e:\\\\git_repos\\\\phenopype\\\\phenopype\\\\templates\\\\landmarks2.yaml',\n",
       " 'tut3.yaml': 'e:\\\\git_repos\\\\phenopype\\\\phenopype\\\\templates\\\\tut3.yaml'}"
      ]
     },
     "execution_count": 17,
     "metadata": {},
     "output_type": "execute_result"
    }
   ],
   "source": [
    "import phenopype as pp\n",
    "\n",
    "pp.pype_config_templates"
   ]
  },
  {
   "cell_type": "code",
   "execution_count": 18,
   "metadata": {},
   "outputs": [
    {
     "name": "stdout",
     "output_type": "stream",
     "text": [
      "SHOWING BUILTIN PHENOPYPE TEMPLATE tut3.yaml\n",
      "\n",
      "\n",
      "- preprocessing:\n",
      "  - create_mask:\n",
      "      tool: polygon\n",
      "- segmentation:\n",
      "  - threshold:\n",
      "      method: adaptive\n",
      "      blocksize: 199\n",
      "      constant: 5\n",
      "      channel: red\n",
      "  - find_contours:\n",
      "      retrieval: ext\n",
      "      min_diameter: 0\n",
      "      min_area: 150\n",
      "- visualization:\n",
      "  - select_canvas:\n",
      "      canvas: image\n",
      "  - draw_contours:\n",
      "      line_width: 2\n",
      "      label_width: 1\n",
      "      label_size: 1\n",
      "      fill: 0.3\n",
      "  - draw_masks\n",
      "- export:\n",
      "  - save_contours:\n",
      "      overwrite: true\n",
      "  - save_canvas:\n",
      "      resize: 0.5\n",
      "      overwrite: true\n"
     ]
    }
   ],
   "source": [
    "pp.show_config_template(\"tut3\")"
   ]
  },
  {
   "cell_type": "markdown",
   "metadata": {},
   "source": [
    "The text inside the yaml configuration files is parsed by Python from top to bottom and converted back to Python code in the background, i.e. to phenopype modules and functions. Indentation hierarchy is as follows:\n",
    "\n",
    "1. The first level without any indentation, e.g. `-preprocessing` or `- segmentation`, denote from the module that a function is part of. \n",
    "2. The second level with two-space indentation before the hyphen, e.g. `- threshold` or `- find_contours` are functions that are loaded from the `segmentation` module. \n",
    "3. The third level without hyphens, e.g. `method: otsu` and `blocksize: 99`, are arguments passed on to the function. \n",
    "\n",
    "Following this notation, the yaml parser in Python interprets the first item in `segmentation` as follows:"
   ]
  },
  {
   "cell_type": "markdown",
   "metadata": {},
   "source": [
    "`pp.segmentation.threshold(image, method=\"adaptive\", blocksize=199, constant=5, channel=\"red\")`"
   ]
  },
  {
   "cell_type": "markdown",
   "metadata": {},
   "source": [
    "When running the pype routine, `image` is automatically loaded and passed to all following functions. You can add or remove functions as you like. Note in the hyphenated first two levels you can  specify modules and functions as many times as you want  (`- ` is the yaml list notation). When adding or modifying modules and functions, it is important to keep in mind that the **function stack is executed sequentially**. So, if you want to perform a `morphology` operation on a binary images, it should come *after* and not before the main segmentation function (in this case `threshold`). "
   ]
  },
  {
   "cell_type": "markdown",
   "metadata": {},
   "source": [
    "\n",
    "<div class=\"alert alert-block alert-info\">\n",
    "    \n",
    "**Here are the most important rules for YAML syntax:**\n",
    "\n",
    "- **indentation rules:**  \n",
    "    - 0 spaces for modules\n",
    "    - 2 spaces + hyphen+space in front of functions \n",
    "    - 4 spaces in front of arguments\n",
    "- **separation rules:** \n",
    "    - modules and functions with arguments are followed by a colon (`:`) and a new line\n",
    "    - functions without specified arguments don't need a colon \n",
    "    - arguments are followed by a colon, a space and then the value\n",
    "- modules and functions can be emtpy (see`- draw_masks` above), but function arguments *cannot* be emtpy (e.g. `overwrite:` needs to be `true` or `false`)\n",
    "- as per Python syntax, optional function arguments can, but don't have to be specified and the functions will just run on default values\n",
    "- functions can be added multiple times, but sometimes their output may be overwtritten (e.g. `- threshold` makes sense only once, but `- blur` may be used in multiple locations)\n",
    "    \n",
    "</div>\n",
    "\n"
   ]
  },
  {
   "cell_type": "markdown",
   "metadata": {},
   "source": [
    "To learn how to analyze entire data sets with the high-throughput method, move on to the next [Tutorial 4](tutorial_4_managing_projects.ipynb). "
   ]
  },
  {
   "cell_type": "code",
   "execution_count": null,
   "metadata": {},
   "outputs": [],
   "source": []
  }
 ],
 "metadata": {
  "kernelspec": {
   "display_name": "Python 3",
   "language": "python",
   "name": "python3"
  },
  "language_info": {
   "codemirror_mode": {
    "name": "ipython",
    "version": 3
   },
   "file_extension": ".py",
   "mimetype": "text/x-python",
   "name": "python",
   "nbconvert_exporter": "python",
   "pygments_lexer": "ipython3",
   "version": "3.7.9"
  }
 },
 "nbformat": 4,
 "nbformat_minor": 4
}
