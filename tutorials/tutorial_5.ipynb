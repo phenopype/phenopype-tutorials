{
 "cells": [
  {
   "cell_type": "markdown",
   "metadata": {},
   "source": [
    "# Tutorial 5:  Creating and detecting a reference\n",
    "\n",
    "Unless images are taken in a highly standardized environment, e.g. via a scanner or a microscope, variation will be introduced in terms of exposure or distance between camera and photographed object, zooming, etc. To compensate this variation among images within and across datasets, Phenopype contains some preprocessing tools that can automatically correct images.  "
   ]
  },
  {
   "cell_type": "markdown",
   "metadata": {},
   "source": [
    "## Load project\n",
    "\n",
    "First we load the project we created in the last tutorial. If we haven't done so, we should create a project: "
   ]
  },
  {
   "cell_type": "code",
   "execution_count": 1,
   "metadata": {},
   "outputs": [
    {
     "name": "stdout",
     "output_type": "stream",
     "text": [
      "--------------------------------------------\n",
      "Phenopype will create a new project at\n",
      "E:\\git_repos\\phenopype\\tutorials\\_temp\\my_project\n",
      "\n",
      "Proceed? (y/n)\n",
      "y\n",
      "Warning - project root_dir already exists - overwrite? (y/n)y\n",
      "\n",
      "\"E:\\git_repos\\phenopype\\tutorials\\_temp\\my_project\" created (overwritten)\n",
      "\n",
      "project attributes written to E:\\git_repos\\phenopype\\tutorials\\_temp\\my_project\\attributes.yaml\n",
      "--------------------------------------------\n",
      "--------------------------------------------\n",
      "phenopype will search for image files at\n",
      "\n",
      "E:\\git_repos\\phenopype\\tutorials\\images\n",
      "\n",
      "using the following settings:\n",
      "\n",
      "filetypes: ['jpg', 'JPG', 'jpeg', 'JPEG', 'tif', 'png', 'bmp'], include: stickle, exclude: ['side', 'top'], mode: copy, recursive: False, resize: False, unique: path\n",
      "\n",
      "Found image stickle1.JPG - phenopype-project folder 0__stickle1 created\n",
      "Found image stickle2.JPG - phenopype-project folder 0__stickle2 created\n",
      "Found image stickle3.JPG - phenopype-project folder 0__stickle3 created\n",
      "\n",
      "Found 3 files\n",
      "--------------------------------------------\n",
      "New pype configuration created (landmarks1.yaml) from phenopype template:\n",
      "e:\\git_repos\\phenopype\\phenopype\\templates\\landmarks1.yaml\n",
      "pype_lm.yaml created for 0__stickle1\n",
      "pype_lm.yaml created for 0__stickle2\n",
      "pype_lm.yaml created for 0__stickle3\n",
      "Project data saved under E:\\git_repos\\phenopype\\tutorials\\_temp\\my_project\\project.data.\n"
     ]
    }
   ],
   "source": [
    "import phenopype as pp\n",
    "import os\n",
    "\n",
    "proj_dir = r\"_temp/my_project\"\n",
    "\n",
    "\n",
    "images = \"images\"\n",
    "myproj = pp.project(root_dir=proj_dir) \n",
    "myproj.add_files(image_dir=images,\n",
    "             include=\"stickle\",\n",
    "             exclude=[\"side\",\"top\"]) \n",
    "myproj.add_config(name = \"lm\", template=\"landmarks1\")\n",
    "pp.project.save(myproj, overwrite=True)"
   ]
  },
  {
   "cell_type": "markdown",
   "metadata": {},
   "source": [
    "## Create a reference and a template for detection \n",
    "\n",
    "With this method you can set a project specific scale by measuring the pixel-to-mm ratio in a reference image. The steps for this are:\n",
    "\n",
    "1. Click on two points with a known distance (in mm) in between, e.g. on a piece of mm-paper that you put in the image, and hit Enter.\n",
    "2. Enter the length in mm. This either returns the pixel-to-mm ratio as a float (under low throughput mode), or adds it to all attribute files within a project (under high throughput mode). \n",
    "3. Optional: You can mask the reference card with the option `mask=True`, to exclude it from all thresholding algorithms, or use `template=True` to create a template for automatic scale detection that is saved on the project's root directory.\n",
    "\n",
    "If you used automatic scale detection, the corresponding column in all resulting data frames is \"template_px_mm_ratio\" for the distance measured in the template, and \"current_px_mm_ratio\" for the ratio in the current picture detected by \"detect_scale\".\n"
   ]
  },
  {
   "cell_type": "markdown",
   "metadata": {},
   "source": [
    "\n",
    "<center>\n",
    "<div style=\"width:500px; text-align: left\">\n",
    "    \n",
    "![Adding a scale](_assets/images/ex2_scale.gif)\n",
    "    \n",
    "</div>\n",
    "</center>\n",
    "\n",
    "The reference image can be any image, but choose it carefully: if you plan on doing brightness and colour corrections, it should be in the middle of the distribution of all exposures and colours so corrections will not over-expose or over-saturate the images. \n",
    "\n",
    "We will use the image `stickleback_side.jpg` from the `image` folder in `tutorials`:"
   ]
  },
  {
   "cell_type": "code",
   "execution_count": 2,
   "metadata": {},
   "outputs": [
    {
     "data": {
      "text/plain": [
       "['cichlid1.jpg',\n",
       " 'cichlid2.jpg',\n",
       " 'cichlid3.jpg',\n",
       " 'cichlid_multi1.jpg',\n",
       " 'cichlid_multi2.jpg',\n",
       " 'cichlid_multi3.jpg',\n",
       " 'isopods.jpg',\n",
       " 'isopods_fish.mp4',\n",
       " 'phyto_445.jpg',\n",
       " 'phyto_469.jpg',\n",
       " 'phyto_586.jpg',\n",
       " 'phyto_bright.jpg',\n",
       " 'snails1.jpg',\n",
       " 'snails2.jpg',\n",
       " 'stickle1.JPG',\n",
       " 'stickle2.JPG',\n",
       " 'stickle3.JPG',\n",
       " 'stickleback_side.jpg',\n",
       " 'stickleback_top.jpg',\n",
       " 'worms.jpg']"
      ]
     },
     "execution_count": 2,
     "metadata": {},
     "output_type": "execute_result"
    }
   ],
   "source": [
    "images = \"images\"\n",
    "os.listdir(images)"
   ]
  },
  {
   "cell_type": "markdown",
   "metadata": {},
   "source": [
    "Within a project, the reference image is set with the `add_reference` method of the project object:\n",
    "1. click on two points inside the provided image\n",
    "2. enter the distance (returns the pixel-to-mm-ratio)\n",
    "3. drag a rectangle mask over the reference card \n",
    "\n",
    "The pixel-to-mm-ratio for reference image gets saved to every image included in the project, the mask is stored as a template for automatic scale detection with the `find_scale` function. "
   ]
  },
  {
   "cell_type": "code",
   "execution_count": 3,
   "metadata": {},
   "outputs": [
    {
     "name": "stdout",
     "output_type": "stream",
     "text": [
      "Reference image loaded from images/stickleback_side.jpg\n",
      "- measure pixel-to-mm-ratio\n",
      "Reference set\n",
      "- add column length\n",
      "Template selected\n",
      "Reference image saved under E:\\git_repos\\phenopype\\tutorials\\_temp\\my_project\\reference_scale1.tif\n",
      "Reference image saved under E:\\git_repos\\phenopype\\tutorials\\_temp\\my_project\\reference_template_scale1.tif\n",
      "Saved reference info to project attributes.\n",
      "setting active reference to \"scale1\" for 0__stickle1 (active=True)\n",
      "setting active reference to \"scale1\" for 0__stickle2 (active=True)\n",
      "setting active reference to \"scale1\" for 0__stickle3 (active=True)\n"
     ]
    }
   ],
   "source": [
    "myproj.add_reference(reference_image=\"images/stickleback_side.jpg\", \n",
    "                     name=\"scale1\",\n",
    "                     template=True,\n",
    "                     overwrite=True)"
   ]
  },
  {
   "cell_type": "markdown",
   "metadata": {},
   "source": [
    "We have now done a few things: \n",
    "\n",
    "**First**, we measured pixel-to-mm ratio of our reference information and saved this information to the projects attribute file in the root directory:  "
   ]
  },
  {
   "cell_type": "code",
   "execution_count": 4,
   "metadata": {},
   "outputs": [
    {
     "name": "stdout",
     "output_type": "stream",
     "text": [
      "project_info:\n",
      "  date_created: '20210312164805'\n",
      "  date_changed: '20210312164805'\n",
      "  phenopype_version: 2.0.dev0\n",
      "reference:\n",
      "  scale1:\n",
      "    date_added: '20210312164819'\n",
      "    reference_image: reference_scale1.tif\n",
      "    original_filepath: images/stickleback_side.jpg\n",
      "    template_px_mm_ratio: 34.306413394582655\n",
      "    template_image: reference_template_scale1.tif\n",
      "project_data:\n",
      "- 0__stickle1\n",
      "- 0__stickle2\n",
      "- 0__stickle3\n"
     ]
    }
   ],
   "source": [
    "attributes = pp.utils_lowlevel._load_yaml(os.path.join(myproj.root_dir, \"attributes.yaml\"))\n",
    "pp.utils_lowlevel._show_yaml(attributes)"
   ]
  },
  {
   "cell_type": "markdown",
   "metadata": {},
   "source": [
    "<div class=\"alert alert-block alert-info\">\n",
    "\n",
    "**NOTE**\n",
    "    \n",
    "Don't mind the functions `_load_yaml` and `_show_yaml` loaded from `pp.utils_lowlevel`, as they are only utility functions that work in the background. I use them here to visualize the content of the attributes files.\n",
    "    \n",
    "</div>"
   ]
  },
  {
   "cell_type": "markdown",
   "metadata": {},
   "source": [
    "**Second**, we have created a template of the reference card to be found in all our project's images:"
   ]
  },
  {
   "cell_type": "code",
   "execution_count": 5,
   "metadata": {},
   "outputs": [],
   "source": [
    "template = pp.load_image(os.path.join(myproj.root_dir, \"reference_template_scale1.tif\"))\n",
    "pp.show_image(template)"
   ]
  },
  {
   "cell_type": "markdown",
   "metadata": {},
   "source": [
    "**Third**, in all our project's image folders, we point towards the reference we created inside the respective `attributes.yaml` files - e.g., for the first image:"
   ]
  },
  {
   "cell_type": "code",
   "execution_count": 6,
   "metadata": {},
   "outputs": [
    {
     "name": "stdout",
     "output_type": "stream",
     "text": [
      "image_original:\n",
      "  filename: stickle1.JPG\n",
      "  width: 2400\n",
      "  height: 1600\n",
      "  filepath: E:\\git_repos\\phenopype\\tutorials\\images\\stickle1.JPG\n",
      "  filetype: .JPG\n",
      "image_phenopype:\n",
      "  date_added: '20210312164805'\n",
      "  mode: copy\n",
      "  filename: copy_stickle1.JPG\n",
      "  width: 2400\n",
      "  height: 1600\n",
      "reference:\n",
      "  project_level:\n",
      "    scale1:\n",
      "      active: true\n"
     ]
    }
   ],
   "source": [
    "attributes = pp.utils_lowlevel._load_yaml(os.path.join(myproj.dirpaths[0], \"attributes.yaml\"))\n",
    "pp.utils_lowlevel._show_yaml(attributes)"
   ]
  },
  {
   "cell_type": "markdown",
   "metadata": {},
   "source": [
    "We are now all set to automatically detect the reference card in our images."
   ]
  },
  {
   "cell_type": "markdown",
   "metadata": {},
   "source": [
    "## Detecting a reference\n",
    "\n",
    "To detect the reference template in our images, we need the function `detect_reference` from the `preprocessing module` (for more information, also on the keypoint detection algorithm that powers this function, [refer to the API](api.html#phenopype.core.preprocessing.detect_reference)). For this we just add a new configuration file that contains the `detect_reference` instruction (the \"landmarks2\" configuration template)."
   ]
  },
  {
   "cell_type": "code",
   "execution_count": 7,
   "metadata": {},
   "outputs": [
    {
     "name": "stdout",
     "output_type": "stream",
     "text": [
      "New pype configuration created (landmarks2.yaml) from phenopype template:\n",
      "e:\\git_repos\\phenopype\\phenopype\\templates\\landmarks2.yaml\n",
      "pype_lm-scale.yaml created for 0__stickle1\n",
      "pype_lm-scale.yaml created for 0__stickle2\n",
      "pype_lm-scale.yaml created for 0__stickle3\n"
     ]
    }
   ],
   "source": [
    "myproj.add_config(name = \"lm-scale\", \n",
    "                  template=\"landmarks2\", \n",
    "                  overwrite=True)"
   ]
  },
  {
   "cell_type": "markdown",
   "metadata": {},
   "source": [
    "Now we run our loop with the new `pype` configuration:  "
   ]
  },
  {
   "cell_type": "code",
   "execution_count": 8,
   "metadata": {},
   "outputs": [
    {
     "name": "stdout",
     "output_type": "stream",
     "text": [
      "Succesfully loaded existing pype config (pype_config_lm-scale.yaml) from:\n",
      "E:\\git_repos\\phenopype\\tutorials\\_temp\\my_project\\data\\0__stickle1\\pype_config_lm-scale.yaml \n",
      "\n",
      "\n",
      "------------+++ new pype iteration 2021:03:12 16:48:34 +++--------------\n",
      "\n",
      "\n",
      "=== AUTOLOAD ===\n",
      "- project level reference information loaded for scale1\n",
      "- reference template image loaded from root directory\n",
      "PREPROCESSING\n",
      "detect_reference\n",
      "---------------------------------------------------\n",
      "Reference card found with 253 keypoint matches:\n",
      "template image has 34.306413394582655 pixel per mm.\n",
      "current image has 33.2 pixel per mm.\n",
      "= 96.834 % of template image.\n",
      "---------------------------------------------------\n",
      "MEASUREMENT\n",
      "landmarks\n",
      "- setting landmarks\n",
      "VISUALIZATION\n",
      "- modifed image\n",
      "- autoselect canvas\n",
      "draw_landmarks\n",
      "EXPORT\n",
      "save_landmarks\n",
      "- landmarks saved under E:\\git_repos\\phenopype\\tutorials\\_temp\\my_project\\data\\0__stickle1\\landmarks_lm-scale.csv.\n",
      "=== AUTOSAVE ===\n",
      "save_canvas\n",
      "- canvas saved under E:\\git_repos\\phenopype\\tutorials\\_temp\\my_project\\data\\0__stickle1\\canvas_lm-scale.jpg.\n",
      "save_masks\n",
      "- masks saved under E:\\git_repos\\phenopype\\tutorials\\_temp\\my_project\\data\\0__stickle1\\masks_lm-scale.csv.\n",
      "save_reference\n",
      "scale1\n",
      "- save reference to attributes\n",
      "\n",
      "\n",
      "------------+++ finished pype iteration +++--------------\n",
      "-------(End with Ctrl+Enter or re-run with Enter)--------\n",
      "\n",
      "\n",
      "\n",
      "\n",
      "------------+++ new pype iteration 2021:03:12 16:48:42 +++--------------\n",
      "\n",
      "\n",
      "=== AUTOLOAD ===\n",
      "- project level reference information loaded for scale1\n",
      "- reference template image loaded from root directory\n",
      "PREPROCESSING\n",
      "detect_reference\n",
      "- reference already detected (overwrite=False)\n",
      "MEASUREMENT\n",
      "landmarks\n",
      "- landmarks already set (overwrite=False)\n",
      "VISUALIZATION\n",
      "- modifed image\n",
      "- autoselect canvas\n",
      "draw_landmarks\n",
      "EXPORT\n",
      "save_landmarks\n",
      "- landmarks saved under E:\\git_repos\\phenopype\\tutorials\\_temp\\my_project\\data\\0__stickle1\\landmarks_lm-scale.csv (overwritten).\n",
      "=== AUTOSAVE ===\n",
      "save_canvas\n",
      "- canvas saved under E:\\git_repos\\phenopype\\tutorials\\_temp\\my_project\\data\\0__stickle1\\canvas_lm-scale.jpg (overwritten).\n",
      "save_masks\n",
      "- masks saved under E:\\git_repos\\phenopype\\tutorials\\_temp\\my_project\\data\\0__stickle1\\masks_lm-scale.csv (overwritten).\n",
      "save_reference\n",
      "scale1\n",
      "- save reference to attributes (overwriting)\n",
      "\n",
      "\n",
      "------------+++ finished pype iteration +++--------------\n",
      "-------(End with Ctrl+Enter or re-run with Enter)--------\n",
      "\n",
      "\n",
      "\n",
      "\n",
      "TERMINATE\n",
      "Succesfully loaded existing pype config (pype_config_lm-scale.yaml) from:\n",
      "E:\\git_repos\\phenopype\\tutorials\\_temp\\my_project\\data\\0__stickle2\\pype_config_lm-scale.yaml \n",
      "\n",
      "\n",
      "------------+++ new pype iteration 2021:03:12 16:48:44 +++--------------\n",
      "\n",
      "\n",
      "=== AUTOLOAD ===\n",
      "- project level reference information loaded for scale1\n",
      "- reference template image loaded from root directory\n",
      "PREPROCESSING\n",
      "detect_reference\n",
      "---------------------------------------------------\n",
      "Reference card found with 223 keypoint matches:\n",
      "template image has 34.306413394582655 pixel per mm.\n",
      "current image has 33.1 pixel per mm.\n",
      "= 96.617 % of template image.\n",
      "---------------------------------------------------\n",
      "MEASUREMENT\n",
      "landmarks\n",
      "- setting landmarks\n",
      "VISUALIZATION\n",
      "- modifed image\n",
      "- autoselect canvas\n",
      "draw_landmarks\n",
      "EXPORT\n",
      "save_landmarks\n",
      "- landmarks saved under E:\\git_repos\\phenopype\\tutorials\\_temp\\my_project\\data\\0__stickle2\\landmarks_lm-scale.csv.\n",
      "=== AUTOSAVE ===\n",
      "save_canvas\n",
      "- canvas saved under E:\\git_repos\\phenopype\\tutorials\\_temp\\my_project\\data\\0__stickle2\\canvas_lm-scale.jpg.\n",
      "save_masks\n",
      "- masks saved under E:\\git_repos\\phenopype\\tutorials\\_temp\\my_project\\data\\0__stickle2\\masks_lm-scale.csv.\n",
      "save_reference\n",
      "scale1\n",
      "- save reference to attributes\n",
      "\n",
      "\n",
      "------------+++ finished pype iteration +++--------------\n",
      "-------(End with Ctrl+Enter or re-run with Enter)--------\n",
      "\n",
      "\n",
      "\n",
      "\n",
      "TERMINATE\n",
      "Succesfully loaded existing pype config (pype_config_lm-scale.yaml) from:\n",
      "E:\\git_repos\\phenopype\\tutorials\\_temp\\my_project\\data\\0__stickle3\\pype_config_lm-scale.yaml \n",
      "\n",
      "\n",
      "------------+++ new pype iteration 2021:03:12 16:48:49 +++--------------\n",
      "\n",
      "\n",
      "=== AUTOLOAD ===\n",
      "- project level reference information loaded for scale1\n",
      "- reference template image loaded from root directory\n",
      "PREPROCESSING\n",
      "detect_reference\n",
      "---------------------------------------------------\n",
      "Reference card found with 255 keypoint matches:\n",
      "template image has 34.306413394582655 pixel per mm.\n",
      "current image has 33.2 pixel per mm.\n",
      "= 96.766 % of template image.\n",
      "---------------------------------------------------\n",
      "MEASUREMENT\n",
      "landmarks\n",
      "- setting landmarks\n",
      "VISUALIZATION\n",
      "- modifed image\n",
      "- autoselect canvas\n",
      "draw_landmarks\n",
      "EXPORT\n",
      "save_landmarks\n",
      "- landmarks saved under E:\\git_repos\\phenopype\\tutorials\\_temp\\my_project\\data\\0__stickle3\\landmarks_lm-scale.csv.\n",
      "=== AUTOSAVE ===\n",
      "save_canvas\n",
      "- canvas saved under E:\\git_repos\\phenopype\\tutorials\\_temp\\my_project\\data\\0__stickle3\\canvas_lm-scale.jpg.\n",
      "save_masks\n",
      "- masks saved under E:\\git_repos\\phenopype\\tutorials\\_temp\\my_project\\data\\0__stickle3\\masks_lm-scale.csv.\n",
      "save_reference\n",
      "scale1\n",
      "- save reference to attributes\n",
      "\n",
      "\n",
      "------------+++ finished pype iteration +++--------------\n",
      "-------(End with Ctrl+Enter or re-run with Enter)--------\n",
      "\n",
      "\n",
      "\n",
      "\n",
      "TERMINATE\n"
     ]
    }
   ],
   "source": [
    "for directory in myproj.dirpaths:\n",
    "    p1 = pp.pype(directory, \n",
    "           name=\"lm-scale\")"
   ]
  },
  {
   "cell_type": "code",
   "execution_count": 10,
   "metadata": {},
   "outputs": [
    {
     "data": {
      "text/html": [
       "<div>\n",
       "<style scoped>\n",
       "    .dataframe tbody tr th:only-of-type {\n",
       "        vertical-align: middle;\n",
       "    }\n",
       "\n",
       "    .dataframe tbody tr th {\n",
       "        vertical-align: top;\n",
       "    }\n",
       "\n",
       "    .dataframe thead th {\n",
       "        text-align: right;\n",
       "    }\n",
       "</style>\n",
       "<table border=\"1\" class=\"dataframe\">\n",
       "  <thead>\n",
       "    <tr style=\"text-align: right;\">\n",
       "      <th></th>\n",
       "      <th>filename_original</th>\n",
       "      <th>filename_phenopype</th>\n",
       "      <th>width</th>\n",
       "      <th>height</th>\n",
       "      <th>landmark</th>\n",
       "      <th>x</th>\n",
       "      <th>y</th>\n",
       "    </tr>\n",
       "  </thead>\n",
       "  <tbody>\n",
       "    <tr>\n",
       "      <th>0</th>\n",
       "      <td>stickle1.JPG</td>\n",
       "      <td>copy_stickle1.JPG</td>\n",
       "      <td>2400</td>\n",
       "      <td>1600</td>\n",
       "      <td>1</td>\n",
       "      <td>1250</td>\n",
       "      <td>422</td>\n",
       "    </tr>\n",
       "    <tr>\n",
       "      <th>1</th>\n",
       "      <td>stickle1.JPG</td>\n",
       "      <td>copy_stickle1.JPG</td>\n",
       "      <td>2400</td>\n",
       "      <td>1600</td>\n",
       "      <td>2</td>\n",
       "      <td>1389</td>\n",
       "      <td>406</td>\n",
       "    </tr>\n",
       "    <tr>\n",
       "      <th>2</th>\n",
       "      <td>stickle1.JPG</td>\n",
       "      <td>copy_stickle1.JPG</td>\n",
       "      <td>2400</td>\n",
       "      <td>1600</td>\n",
       "      <td>3</td>\n",
       "      <td>1720</td>\n",
       "      <td>480</td>\n",
       "    </tr>\n",
       "  </tbody>\n",
       "</table>\n",
       "</div>"
      ],
      "text/plain": [
       "  filename_original filename_phenopype  width  height  landmark     x    y\n",
       "0      stickle1.JPG  copy_stickle1.JPG   2400    1600         1  1250  422\n",
       "1      stickle1.JPG  copy_stickle1.JPG   2400    1600         2  1389  406\n",
       "2      stickle1.JPG  copy_stickle1.JPG   2400    1600         3  1720  480"
      ]
     },
     "execution_count": 10,
     "metadata": {},
     "output_type": "execute_result"
    }
   ],
   "source": [
    "import pandas as pd\n",
    "\n",
    "lm_df = pd.read_csv(os.path.join(myproj.dirpaths[0], \"landmarks_lm-scale.csv\"))\n",
    "lm_df"
   ]
  },
  {
   "cell_type": "markdown",
   "metadata": {},
   "source": [
    "Note the new column `current_px_mm_ratio`, which denotes the pixel-to-mm ratio as per the detected reference template. This information is now also stored in the respective image specific attribute file:"
   ]
  },
  {
   "cell_type": "code",
   "execution_count": 11,
   "metadata": {},
   "outputs": [
    {
     "name": "stdout",
     "output_type": "stream",
     "text": [
      "image_original:\n",
      "  filename: stickle1.JPG\n",
      "  width: 2400\n",
      "  height: 1600\n",
      "  filepath: E:\\git_repos\\phenopype\\tutorials\\images\\stickle1.JPG\n",
      "  filetype: .JPG\n",
      "image_phenopype:\n",
      "  date_added: '20210312164805'\n",
      "  mode: copy\n",
      "  filename: copy_stickle1.JPG\n",
      "  width: 2400\n",
      "  height: 1600\n",
      "reference:\n",
      "  project_level:\n",
      "    scale1:\n",
      "      active: true\n",
      "      detected_px_mm_ratio: 33.2\n"
     ]
    }
   ],
   "source": [
    "attributes = pp.utils_lowlevel._load_yaml(os.path.join(myproj.dirpaths[0], \"attributes.yaml\"))\n",
    "pp.utils_lowlevel._show_yaml(attributes)"
   ]
  },
  {
   "cell_type": "code",
   "execution_count": null,
   "metadata": {},
   "outputs": [],
   "source": [
    "Move on to [Tutorial 6](tutorial_5_references.ipynb) to learn how to size and colour adjust all images within a project."
   ]
  }
 ],
 "metadata": {
  "kernelspec": {
   "display_name": "Python 3",
   "language": "python",
   "name": "python3"
  },
  "language_info": {
   "codemirror_mode": {
    "name": "ipython",
    "version": 3
   },
   "file_extension": ".py",
   "mimetype": "text/x-python",
   "name": "python",
   "nbconvert_exporter": "python",
   "pygments_lexer": "ipython3",
   "version": "3.7.9"
  }
 },
 "nbformat": 4,
 "nbformat_minor": 2
}
